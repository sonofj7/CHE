{
 "cells": [
  {
   "cell_type": "code",
   "execution_count": 94,
   "metadata": {},
   "outputs": [],
   "source": [
    "#TODO: create functions for vapor line, feed line, and liquid line\n",
    "#TODO: change the stage plotting to a single array (try appending values) (completed)\n",
    "#TODO: rename functions from ref_calc to refCalc\n",
    "#TODO: implement OOP to umbrella over functions\n",
    "#TODO: ask for y* at the beginning\n",
    "#TODO: create switch function to calculate the feed point based on inputs (liquid, vapor, mixed) (ask the user)\n"
   ]
  },
  {
   "cell_type": "code",
   "execution_count": 95,
   "metadata": {},
   "outputs": [],
   "source": [
    "import numpy as np\n",
    "from plotly.subplots import make_subplots\n",
    "import plotly.io as pio\n",
    "pio.templates.default = 'plotly_dark'\n",
    "from IPython.display import clear_output"
   ]
  },
  {
   "cell_type": "code",
   "execution_count": 163,
   "metadata": {},
   "outputs": [
    {
     "name": "stdout",
     "output_type": "stream",
     "text": [
      "Enter a feed vapor composition greater than xf 0.5.\n",
      "Enter a feed vapor composition greater than xf 0.5.\n",
      "Enter a feed vapor composition greater than xf 0.5.\n"
     ]
    },
    {
     "data": {
      "application/vnd.plotly.v1+json": {
       "config": {
        "plotlyServerURL": "https://plot.ly"
       },
       "data": [
        {
         "name": "Vapor Line",
         "type": "scatter",
         "x": [
          0,
          0.01,
          0.02,
          0.03,
          0.04,
          0.05,
          0.06,
          0.07,
          0.08,
          0.09,
          0.1,
          0.11,
          0.12,
          0.13,
          0.14,
          0.15,
          0.16,
          0.17,
          0.18,
          0.19,
          0.2,
          0.21,
          0.22,
          0.23,
          0.24,
          0.25,
          0.26,
          0.27,
          0.28,
          0.29,
          0.3,
          0.31,
          0.32,
          0.33,
          0.34,
          0.35000000000000003,
          0.36,
          0.37,
          0.38,
          0.39,
          0.4,
          0.41000000000000003,
          0.42,
          0.43,
          0.44,
          0.45,
          0.46,
          0.47000000000000003,
          0.48,
          0.49,
          0.5,
          0.51,
          0.52,
          0.53,
          0.54,
          0.55,
          0.56,
          0.5700000000000001,
          0.58,
          0.59,
          0.6,
          0.61,
          0.62,
          0.63,
          0.64,
          0.65,
          0.66,
          0.67,
          0.68,
          0.6900000000000001,
          0.7000000000000001,
          0.71,
          0.72,
          0.73,
          0.74,
          0.75,
          0.76,
          0.77,
          0.78,
          0.79,
          0.8,
          0.81,
          0.8200000000000001,
          0.8300000000000001,
          0.84,
          0.85,
          0.86,
          0.87,
          0.88,
          0.89,
          0.9,
          0.91,
          0.92,
          0.93,
          0.9400000000000001,
          0.9500000000000001,
          0.96,
          0.97,
          0.98,
          0.99,
          1
         ],
         "y": [
          9564.132,
          9539.903208,
          9515.674416,
          9491.445624,
          9467.216832,
          9442.98804,
          9418.759248,
          9394.530456,
          9370.301664,
          9346.072871999999,
          9321.844079999999,
          9297.615287999999,
          9273.386496,
          9249.157704,
          9224.928912,
          9200.70012,
          9176.471328,
          9152.242536,
          9128.013744,
          9103.784952,
          9079.55616,
          9055.327368,
          9031.098576,
          9006.869784,
          8982.640992,
          8958.412199999999,
          8934.183407999999,
          8909.954615999999,
          8885.725824,
          8861.497032,
          8837.26824,
          8813.039448,
          8788.810656,
          8764.581864,
          8740.353072,
          8716.12428,
          8691.895488,
          8667.666696,
          8643.437904,
          8619.209112,
          8594.98032,
          8570.751528,
          8546.522735999999,
          8522.293944,
          8498.065152,
          8473.83636,
          8449.607568,
          8425.378776,
          8401.149984,
          8376.921192,
          8352.6924,
          8328.463608,
          8304.234816,
          8280.006024,
          8255.777232,
          8231.54844,
          8207.319648,
          8183.090856,
          8158.862064,
          8134.633272,
          8110.40448,
          8086.175688,
          8061.9468959999995,
          8037.718104,
          8013.489312,
          7989.26052,
          7965.031728,
          7940.802936,
          7916.574144,
          7892.345352,
          7868.11656,
          7843.8877680000005,
          7819.658976000001,
          7795.430184,
          7771.201392,
          7746.9726,
          7722.743808,
          7698.515016,
          7674.2862239999995,
          7650.057432,
          7625.82864,
          7601.599848,
          7577.371056,
          7553.142264,
          7528.913472,
          7504.68468,
          7480.455888,
          7456.2270960000005,
          7431.998304000001,
          7407.769512000001,
          7383.54072,
          7359.311928,
          7335.083136,
          7310.854343999999,
          7286.6255519999995,
          7262.39676,
          7238.167968,
          7213.939176,
          7189.710384,
          7165.481592,
          7141.2528
         ]
        },
        {
         "name": "Liquid Line",
         "type": "scatter",
         "x": [
          0,
          0.01,
          0.02,
          0.03,
          0.04,
          0.05,
          0.06,
          0.07,
          0.08,
          0.09,
          0.1,
          0.11,
          0.12,
          0.13,
          0.14,
          0.15,
          0.16,
          0.17,
          0.18,
          0.19,
          0.2,
          0.21,
          0.22,
          0.23,
          0.24,
          0.25,
          0.26,
          0.27,
          0.28,
          0.29,
          0.3,
          0.31,
          0.32,
          0.33,
          0.34,
          0.35000000000000003,
          0.36,
          0.37,
          0.38,
          0.39,
          0.4,
          0.41000000000000003,
          0.42,
          0.43,
          0.44,
          0.45,
          0.46,
          0.47000000000000003,
          0.48,
          0.49,
          0.5,
          0.51,
          0.52,
          0.53,
          0.54,
          0.55,
          0.56,
          0.5700000000000001,
          0.58,
          0.59,
          0.6,
          0.61,
          0.62,
          0.63,
          0.64,
          0.65,
          0.66,
          0.67,
          0.68,
          0.6900000000000001,
          0.7000000000000001,
          0.71,
          0.72,
          0.73,
          0.74,
          0.75,
          0.76,
          0.77,
          0.78,
          0.79,
          0.8,
          0.81,
          0.8200000000000001,
          0.8300000000000001,
          0.84,
          0.85,
          0.86,
          0.87,
          0.88,
          0.89,
          0.9,
          0.91,
          0.92,
          0.93,
          0.9400000000000001,
          0.9500000000000001,
          0.96,
          0.97,
          0.98,
          0.99,
          1
         ],
         "y": [
          1566.38,
          1550.7162,
          1535.0524,
          1519.3886000000002,
          1503.7248000000002,
          1488.0610000000001,
          1472.3972,
          1456.7334,
          1441.0696,
          1425.4058,
          1409.7420000000002,
          1394.0782000000002,
          1378.4144000000001,
          1362.7506,
          1347.0868,
          1331.4230000000002,
          1315.7592,
          1300.0954000000002,
          1284.4316000000001,
          1268.7678,
          1253.104,
          1237.4402,
          1221.7764000000002,
          1206.1126,
          1190.4488000000001,
          1174.785,
          1159.1212,
          1143.4574,
          1127.7936,
          1112.1298000000002,
          1096.4660000000001,
          1080.8022,
          1065.1384,
          1049.4746,
          1033.8108000000002,
          1018.147,
          1002.4832000000001,
          986.8194000000001,
          971.1556,
          955.4918,
          939.828,
          924.1642,
          908.5004000000001,
          892.8366000000001,
          877.1728,
          861.509,
          845.8452,
          830.1814,
          814.5176000000001,
          798.8538000000001,
          783.19,
          767.5262,
          751.8624,
          736.1986,
          720.5348,
          704.871,
          689.2072,
          673.5433999999999,
          657.8796000000001,
          642.2158000000001,
          626.5520000000001,
          610.8882000000001,
          595.2244000000001,
          579.5606,
          563.8968,
          548.233,
          532.5691999999999,
          516.9053999999999,
          501.24160000000006,
          485.5778,
          469.914,
          454.2502000000002,
          438.58640000000014,
          422.9226000000001,
          407.25880000000006,
          391.595,
          375.9312,
          360.26739999999995,
          344.6035999999999,
          328.9397999999999,
          313.27599999999984,
          297.61220000000003,
          281.9484,
          266.28459999999995,
          250.62080000000014,
          234.9570000000001,
          219.29320000000007,
          203.62940000000003,
          187.9656,
          172.30179999999996,
          156.63799999999992,
          140.97419999999988,
          125.31039999999985,
          109.64660000000003,
          93.9828,
          78.31899999999996,
          62.65520000000015,
          46.99140000000011,
          31.327600000000075,
          15.663800000000037,
          0
         ]
        },
        {
         "name": "Feed Line",
         "type": "scatter",
         "x": [
          0.5,
          0.51,
          0.52,
          0.53,
          0.54,
          0.55,
          0.56,
          0.5700000000000001,
          0.58,
          0.59,
          0.6,
          0.61,
          0.62,
          0.63,
          0.64,
          0.65,
          0.66,
          0.67,
          0.68,
          0.6900000000000001,
          0.7000000000000001,
          0.71,
          0.72,
          0.73,
          0.74,
          0.75,
          0.76,
          0.77,
          0.78,
          0.79,
          0.8,
          0.81,
          0.8200000000000001,
          0.8300000000000001,
          0.84,
          0.85,
          0.86,
          0.87,
          0.88,
          0.89,
          0.9,
          0.91,
          0.92,
          0.93,
          0.9400000000000001,
          0.9500000000000001,
          0.96
         ],
         "y": [
          783.1900000000005,
          1119.413703238095,
          1455.637406476193,
          1791.8611097142875,
          2128.084812952382,
          2464.30851619048,
          2800.5322194285745,
          3136.755922666669,
          3472.97962590476,
          3809.203329142858,
          4145.427032380952,
          4481.650735619047,
          4817.874438857145,
          5154.098142095239,
          5490.321845333334,
          5826.545548571432,
          6162.769251809526,
          6498.992955047621,
          6835.216658285715,
          7171.440361523813,
          7507.664064761908,
          7843.887767999999,
          8180.111471238097,
          8516.335174476191,
          8852.558877714286,
          9188.78258095238,
          9525.006284190478,
          9861.229987428573,
          10197.453690666667,
          10533.677393904765,
          10869.90109714286,
          11206.124800380954,
          11542.348503619052,
          11878.572206857147,
          12214.795910095238,
          12551.019613333332,
          12887.24331657143,
          13223.467019809525,
          13559.690723047619,
          13895.914426285717,
          14232.138129523812,
          14568.361832761906,
          14904.585536000004,
          15240.809239238099,
          15577.032942476193,
          15913.256645714291,
          16249.480348952382
         ]
        }
       ],
       "layout": {
        "shapes": [
         {
          "type": "line",
          "x0": 0.96,
          "x1": 0.96,
          "y0": -16249.480348952382,
          "y1": 16249.480348952382
         },
         {
          "type": "line",
          "x0": 0.04,
          "x1": 0.04,
          "y0": 14683.100348952381,
          "y1": -14683.100348952381
         }
        ],
        "template": {
         "data": {
          "bar": [
           {
            "error_x": {
             "color": "#f2f5fa"
            },
            "error_y": {
             "color": "#f2f5fa"
            },
            "marker": {
             "line": {
              "color": "rgb(17,17,17)",
              "width": 0.5
             },
             "pattern": {
              "fillmode": "overlay",
              "size": 10,
              "solidity": 0.2
             }
            },
            "type": "bar"
           }
          ],
          "barpolar": [
           {
            "marker": {
             "line": {
              "color": "rgb(17,17,17)",
              "width": 0.5
             },
             "pattern": {
              "fillmode": "overlay",
              "size": 10,
              "solidity": 0.2
             }
            },
            "type": "barpolar"
           }
          ],
          "carpet": [
           {
            "aaxis": {
             "endlinecolor": "#A2B1C6",
             "gridcolor": "#506784",
             "linecolor": "#506784",
             "minorgridcolor": "#506784",
             "startlinecolor": "#A2B1C6"
            },
            "baxis": {
             "endlinecolor": "#A2B1C6",
             "gridcolor": "#506784",
             "linecolor": "#506784",
             "minorgridcolor": "#506784",
             "startlinecolor": "#A2B1C6"
            },
            "type": "carpet"
           }
          ],
          "choropleth": [
           {
            "colorbar": {
             "outlinewidth": 0,
             "ticks": ""
            },
            "type": "choropleth"
           }
          ],
          "contour": [
           {
            "colorbar": {
             "outlinewidth": 0,
             "ticks": ""
            },
            "colorscale": [
             [
              0,
              "#0d0887"
             ],
             [
              0.1111111111111111,
              "#46039f"
             ],
             [
              0.2222222222222222,
              "#7201a8"
             ],
             [
              0.3333333333333333,
              "#9c179e"
             ],
             [
              0.4444444444444444,
              "#bd3786"
             ],
             [
              0.5555555555555556,
              "#d8576b"
             ],
             [
              0.6666666666666666,
              "#ed7953"
             ],
             [
              0.7777777777777778,
              "#fb9f3a"
             ],
             [
              0.8888888888888888,
              "#fdca26"
             ],
             [
              1,
              "#f0f921"
             ]
            ],
            "type": "contour"
           }
          ],
          "contourcarpet": [
           {
            "colorbar": {
             "outlinewidth": 0,
             "ticks": ""
            },
            "type": "contourcarpet"
           }
          ],
          "heatmap": [
           {
            "colorbar": {
             "outlinewidth": 0,
             "ticks": ""
            },
            "colorscale": [
             [
              0,
              "#0d0887"
             ],
             [
              0.1111111111111111,
              "#46039f"
             ],
             [
              0.2222222222222222,
              "#7201a8"
             ],
             [
              0.3333333333333333,
              "#9c179e"
             ],
             [
              0.4444444444444444,
              "#bd3786"
             ],
             [
              0.5555555555555556,
              "#d8576b"
             ],
             [
              0.6666666666666666,
              "#ed7953"
             ],
             [
              0.7777777777777778,
              "#fb9f3a"
             ],
             [
              0.8888888888888888,
              "#fdca26"
             ],
             [
              1,
              "#f0f921"
             ]
            ],
            "type": "heatmap"
           }
          ],
          "heatmapgl": [
           {
            "colorbar": {
             "outlinewidth": 0,
             "ticks": ""
            },
            "colorscale": [
             [
              0,
              "#0d0887"
             ],
             [
              0.1111111111111111,
              "#46039f"
             ],
             [
              0.2222222222222222,
              "#7201a8"
             ],
             [
              0.3333333333333333,
              "#9c179e"
             ],
             [
              0.4444444444444444,
              "#bd3786"
             ],
             [
              0.5555555555555556,
              "#d8576b"
             ],
             [
              0.6666666666666666,
              "#ed7953"
             ],
             [
              0.7777777777777778,
              "#fb9f3a"
             ],
             [
              0.8888888888888888,
              "#fdca26"
             ],
             [
              1,
              "#f0f921"
             ]
            ],
            "type": "heatmapgl"
           }
          ],
          "histogram": [
           {
            "marker": {
             "pattern": {
              "fillmode": "overlay",
              "size": 10,
              "solidity": 0.2
             }
            },
            "type": "histogram"
           }
          ],
          "histogram2d": [
           {
            "colorbar": {
             "outlinewidth": 0,
             "ticks": ""
            },
            "colorscale": [
             [
              0,
              "#0d0887"
             ],
             [
              0.1111111111111111,
              "#46039f"
             ],
             [
              0.2222222222222222,
              "#7201a8"
             ],
             [
              0.3333333333333333,
              "#9c179e"
             ],
             [
              0.4444444444444444,
              "#bd3786"
             ],
             [
              0.5555555555555556,
              "#d8576b"
             ],
             [
              0.6666666666666666,
              "#ed7953"
             ],
             [
              0.7777777777777778,
              "#fb9f3a"
             ],
             [
              0.8888888888888888,
              "#fdca26"
             ],
             [
              1,
              "#f0f921"
             ]
            ],
            "type": "histogram2d"
           }
          ],
          "histogram2dcontour": [
           {
            "colorbar": {
             "outlinewidth": 0,
             "ticks": ""
            },
            "colorscale": [
             [
              0,
              "#0d0887"
             ],
             [
              0.1111111111111111,
              "#46039f"
             ],
             [
              0.2222222222222222,
              "#7201a8"
             ],
             [
              0.3333333333333333,
              "#9c179e"
             ],
             [
              0.4444444444444444,
              "#bd3786"
             ],
             [
              0.5555555555555556,
              "#d8576b"
             ],
             [
              0.6666666666666666,
              "#ed7953"
             ],
             [
              0.7777777777777778,
              "#fb9f3a"
             ],
             [
              0.8888888888888888,
              "#fdca26"
             ],
             [
              1,
              "#f0f921"
             ]
            ],
            "type": "histogram2dcontour"
           }
          ],
          "mesh3d": [
           {
            "colorbar": {
             "outlinewidth": 0,
             "ticks": ""
            },
            "type": "mesh3d"
           }
          ],
          "parcoords": [
           {
            "line": {
             "colorbar": {
              "outlinewidth": 0,
              "ticks": ""
             }
            },
            "type": "parcoords"
           }
          ],
          "pie": [
           {
            "automargin": true,
            "type": "pie"
           }
          ],
          "scatter": [
           {
            "marker": {
             "line": {
              "color": "#283442"
             }
            },
            "type": "scatter"
           }
          ],
          "scatter3d": [
           {
            "line": {
             "colorbar": {
              "outlinewidth": 0,
              "ticks": ""
             }
            },
            "marker": {
             "colorbar": {
              "outlinewidth": 0,
              "ticks": ""
             }
            },
            "type": "scatter3d"
           }
          ],
          "scattercarpet": [
           {
            "marker": {
             "colorbar": {
              "outlinewidth": 0,
              "ticks": ""
             }
            },
            "type": "scattercarpet"
           }
          ],
          "scattergeo": [
           {
            "marker": {
             "colorbar": {
              "outlinewidth": 0,
              "ticks": ""
             }
            },
            "type": "scattergeo"
           }
          ],
          "scattergl": [
           {
            "marker": {
             "line": {
              "color": "#283442"
             }
            },
            "type": "scattergl"
           }
          ],
          "scattermapbox": [
           {
            "marker": {
             "colorbar": {
              "outlinewidth": 0,
              "ticks": ""
             }
            },
            "type": "scattermapbox"
           }
          ],
          "scatterpolar": [
           {
            "marker": {
             "colorbar": {
              "outlinewidth": 0,
              "ticks": ""
             }
            },
            "type": "scatterpolar"
           }
          ],
          "scatterpolargl": [
           {
            "marker": {
             "colorbar": {
              "outlinewidth": 0,
              "ticks": ""
             }
            },
            "type": "scatterpolargl"
           }
          ],
          "scatterternary": [
           {
            "marker": {
             "colorbar": {
              "outlinewidth": 0,
              "ticks": ""
             }
            },
            "type": "scatterternary"
           }
          ],
          "surface": [
           {
            "colorbar": {
             "outlinewidth": 0,
             "ticks": ""
            },
            "colorscale": [
             [
              0,
              "#0d0887"
             ],
             [
              0.1111111111111111,
              "#46039f"
             ],
             [
              0.2222222222222222,
              "#7201a8"
             ],
             [
              0.3333333333333333,
              "#9c179e"
             ],
             [
              0.4444444444444444,
              "#bd3786"
             ],
             [
              0.5555555555555556,
              "#d8576b"
             ],
             [
              0.6666666666666666,
              "#ed7953"
             ],
             [
              0.7777777777777778,
              "#fb9f3a"
             ],
             [
              0.8888888888888888,
              "#fdca26"
             ],
             [
              1,
              "#f0f921"
             ]
            ],
            "type": "surface"
           }
          ],
          "table": [
           {
            "cells": {
             "fill": {
              "color": "#506784"
             },
             "line": {
              "color": "rgb(17,17,17)"
             }
            },
            "header": {
             "fill": {
              "color": "#2a3f5f"
             },
             "line": {
              "color": "rgb(17,17,17)"
             }
            },
            "type": "table"
           }
          ]
         },
         "layout": {
          "annotationdefaults": {
           "arrowcolor": "#f2f5fa",
           "arrowhead": 0,
           "arrowwidth": 1
          },
          "autotypenumbers": "strict",
          "coloraxis": {
           "colorbar": {
            "outlinewidth": 0,
            "ticks": ""
           }
          },
          "colorscale": {
           "diverging": [
            [
             0,
             "#8e0152"
            ],
            [
             0.1,
             "#c51b7d"
            ],
            [
             0.2,
             "#de77ae"
            ],
            [
             0.3,
             "#f1b6da"
            ],
            [
             0.4,
             "#fde0ef"
            ],
            [
             0.5,
             "#f7f7f7"
            ],
            [
             0.6,
             "#e6f5d0"
            ],
            [
             0.7,
             "#b8e186"
            ],
            [
             0.8,
             "#7fbc41"
            ],
            [
             0.9,
             "#4d9221"
            ],
            [
             1,
             "#276419"
            ]
           ],
           "sequential": [
            [
             0,
             "#0d0887"
            ],
            [
             0.1111111111111111,
             "#46039f"
            ],
            [
             0.2222222222222222,
             "#7201a8"
            ],
            [
             0.3333333333333333,
             "#9c179e"
            ],
            [
             0.4444444444444444,
             "#bd3786"
            ],
            [
             0.5555555555555556,
             "#d8576b"
            ],
            [
             0.6666666666666666,
             "#ed7953"
            ],
            [
             0.7777777777777778,
             "#fb9f3a"
            ],
            [
             0.8888888888888888,
             "#fdca26"
            ],
            [
             1,
             "#f0f921"
            ]
           ],
           "sequentialminus": [
            [
             0,
             "#0d0887"
            ],
            [
             0.1111111111111111,
             "#46039f"
            ],
            [
             0.2222222222222222,
             "#7201a8"
            ],
            [
             0.3333333333333333,
             "#9c179e"
            ],
            [
             0.4444444444444444,
             "#bd3786"
            ],
            [
             0.5555555555555556,
             "#d8576b"
            ],
            [
             0.6666666666666666,
             "#ed7953"
            ],
            [
             0.7777777777777778,
             "#fb9f3a"
            ],
            [
             0.8888888888888888,
             "#fdca26"
            ],
            [
             1,
             "#f0f921"
            ]
           ]
          },
          "colorway": [
           "#636efa",
           "#EF553B",
           "#00cc96",
           "#ab63fa",
           "#FFA15A",
           "#19d3f3",
           "#FF6692",
           "#B6E880",
           "#FF97FF",
           "#FECB52"
          ],
          "font": {
           "color": "#f2f5fa"
          },
          "geo": {
           "bgcolor": "rgb(17,17,17)",
           "lakecolor": "rgb(17,17,17)",
           "landcolor": "rgb(17,17,17)",
           "showlakes": true,
           "showland": true,
           "subunitcolor": "#506784"
          },
          "hoverlabel": {
           "align": "left"
          },
          "hovermode": "closest",
          "mapbox": {
           "style": "dark"
          },
          "paper_bgcolor": "rgb(17,17,17)",
          "plot_bgcolor": "rgb(17,17,17)",
          "polar": {
           "angularaxis": {
            "gridcolor": "#506784",
            "linecolor": "#506784",
            "ticks": ""
           },
           "bgcolor": "rgb(17,17,17)",
           "radialaxis": {
            "gridcolor": "#506784",
            "linecolor": "#506784",
            "ticks": ""
           }
          },
          "scene": {
           "xaxis": {
            "backgroundcolor": "rgb(17,17,17)",
            "gridcolor": "#506784",
            "gridwidth": 2,
            "linecolor": "#506784",
            "showbackground": true,
            "ticks": "",
            "zerolinecolor": "#C8D4E3"
           },
           "yaxis": {
            "backgroundcolor": "rgb(17,17,17)",
            "gridcolor": "#506784",
            "gridwidth": 2,
            "linecolor": "#506784",
            "showbackground": true,
            "ticks": "",
            "zerolinecolor": "#C8D4E3"
           },
           "zaxis": {
            "backgroundcolor": "rgb(17,17,17)",
            "gridcolor": "#506784",
            "gridwidth": 2,
            "linecolor": "#506784",
            "showbackground": true,
            "ticks": "",
            "zerolinecolor": "#C8D4E3"
           }
          },
          "shapedefaults": {
           "line": {
            "color": "#f2f5fa"
           }
          },
          "sliderdefaults": {
           "bgcolor": "#C8D4E3",
           "bordercolor": "rgb(17,17,17)",
           "borderwidth": 1,
           "tickwidth": 0
          },
          "ternary": {
           "aaxis": {
            "gridcolor": "#506784",
            "linecolor": "#506784",
            "ticks": ""
           },
           "baxis": {
            "gridcolor": "#506784",
            "linecolor": "#506784",
            "ticks": ""
           },
           "bgcolor": "rgb(17,17,17)",
           "caxis": {
            "gridcolor": "#506784",
            "linecolor": "#506784",
            "ticks": ""
           }
          },
          "title": {
           "x": 0.05
          },
          "updatemenudefaults": {
           "bgcolor": "#506784",
           "borderwidth": 0
          },
          "xaxis": {
           "automargin": true,
           "gridcolor": "#283442",
           "linecolor": "#506784",
           "ticks": "",
           "title": {
            "standoff": 15
           },
           "zerolinecolor": "#283442",
           "zerolinewidth": 2
          },
          "yaxis": {
           "automargin": true,
           "gridcolor": "#283442",
           "linecolor": "#506784",
           "ticks": "",
           "title": {
            "standoff": 15
           },
           "zerolinecolor": "#283442",
           "zerolinewidth": 2
          }
         }
        },
        "title": {
         "text": "H vs comp"
        },
        "xaxis": {
         "anchor": "y",
         "domain": [
          0,
          1
         ],
         "title": {
          "text": "Composition (x_i,y_i)"
         }
        },
        "yaxis": {
         "anchor": "x",
         "domain": [
          0,
          1
         ],
         "title": {
          "text": " Enthalpy (H)"
         }
        }
       }
      }
     },
     "metadata": {},
     "output_type": "display_data"
    }
   ],
   "source": [
    "'''Specified Functions'''\n",
    "\n",
    "def refCalc(a, b):\n",
    "    '''\n",
    "    DESCRIPTION\n",
    "    Determines the reference temperature T_ref in degrees (C)\n",
    "    \n",
    "    INPUTS:\n",
    "    a                  : Boiling point temperature of b\n",
    "    b                  : Boiling point temperature of b\n",
    "\n",
    "    OUTPUTS:\n",
    "    T_ref              : Reference temperature (C) \n",
    "    \n",
    "    '''\n",
    "    if a < b:\n",
    "        res = a\n",
    "    else:\n",
    "        res = b\n",
    "    return res\n",
    "\n",
    "def liquidEnthalpy(C, T_boil, mw):\n",
    "    '''\n",
    "    Description\n",
    "    Returns the liquid enthalpy\n",
    "    \n",
    "    INPUTS:\n",
    "    C                  : Average liquid specific heat\n",
    "    T_boil             : Boiling point temperature\n",
    "    mw                 : Molecular weight\n",
    "\n",
    "    OUTPUTS:\n",
    "    H                  : Liquid enthalpy \n",
    "\n",
    "    '''\n",
    "    H = C*(T_boil - T_ref)*mw\n",
    "    return H\n",
    "\n",
    "def vaporEnthalpy(H_l,H_vap, mw):\n",
    "    '''\n",
    "    Description\n",
    "    Returns the vapor enthalpy\n",
    "    \n",
    "    INPUTS:\n",
    "    H_l                : Liquid enthalpy\n",
    "    H_vap             : Latent heat of vaporization\n",
    "    mw                 : Molecular weight\n",
    "\n",
    "    OUTPUTS:\n",
    "    H                  : Vapor enthalpy\n",
    "\n",
    "    '''\n",
    "    H = H_l + H_vap*mw\n",
    "    return H\n",
    "\n",
    "def vaporLineEq(i):\n",
    "    '''\n",
    "    DESCRIPTION\n",
    "    Produces the vapor enthalpy across a range or specifed of compostiions\n",
    "\n",
    "    INPUTS:\n",
    "    i                 : Composition\n",
    "\n",
    "    OUTPUTS:\n",
    "    y                 : Output enthalpy(s)\n",
    "\n",
    "    '''\n",
    "    y = vaporLineSlope*i + Hb_v\n",
    "    return y \n",
    "\n",
    "def liquidLineEq(i):\n",
    "    '''\n",
    "    DESCRIPTION\n",
    "    Produces the liquid enthalpy across a range or specifed of compostiions\n",
    "\n",
    "    INPUTS:\n",
    "    i                 : Composition\n",
    "\n",
    "    OUTPUTS:\n",
    "    y                 : Output enthalpy(s)\n",
    "\n",
    "    '''\n",
    "    y = liquidLineSlope*i + Hb_l\n",
    "    return y\n",
    "\n",
    "def feedLineSlope():\n",
    "    '''\n",
    "    DESCRIPTION\n",
    "    Calculates the feed lines slope to determine ideal stages.\n",
    "\n",
    "    INPUTS:\n",
    "\n",
    "    OUTPUTS:\n",
    "    m                 : Feed line slope\n",
    "    b                 : Feed line y intercept\n",
    "\n",
    "    '''\n",
    "    feedPoint = liquidLineSlope*xf + Hb_l\n",
    "    feedPointThroughVapor = vaporLineSlope*yf_star + Hb_v\n",
    "    m = (feedPointThroughVapor-feedPoint)/(yf_star-xf)\n",
    "    b = -m*xf+feedPoint\n",
    "    return m, b\n",
    "\n",
    "\n",
    "def feedLineEq(i):\n",
    "    '''\n",
    "    DESCRIPTION\n",
    "    Produces the feed enthalpy across a range or specifed of compostiions\n",
    "\n",
    "    INPUTS:\n",
    "    i                 : Composition\n",
    "\n",
    "    OUTPUTS:\n",
    "    y                 : Output enthalpy(s)\n",
    "    '''\n",
    "    \n",
    "    y = feedLineSlope()[0]*i + feedLineSlope()[1]\n",
    "    return y\n",
    "\n",
    "'''Parameters'''\n",
    "F = 100                             # Feed flow rate (kmol/hr)\n",
    "xf=0.5                              # Feed composition\n",
    "xd=0.96                             # Distillate composition\n",
    "xb=0.04                             # Bottoms composition\n",
    "feedType = 'saturated'              # Feed type\n",
    "\n",
    "'''Properites:'''\n",
    "mw_A=153.84                         # Molecular weight of a (g/mol)\n",
    "mw_B=92.14                          # Molecular weight of b (g/mol)\n",
    "Ta_boil=76.4                        # Boiling point of a (C)\n",
    "Tb_boil=110.4                       # Boiling point of b (C)\n",
    "T_ref = refCalc(Ta_boil,Tb_boil)   # Determined reference temperature\n",
    "Ca=.225                             # Average liquid specific heat of a\n",
    "Cb=.5                               # Average liquid specific heat of b\n",
    "Ha_vap=46.42                        # Latent heat vap. of a @ 76.4\n",
    "Hb_vap=86.8                         # Latent heat vap. of b @ 110.4\n",
    "\n",
    "# enthalpy calculations\n",
    "Ha_l = liquidEnthalpy(Ca, Ta_boil, mw_A)\n",
    "Hb_l = liquidEnthalpy(Cb, Tb_boil, mw_B)\n",
    "Ha_v = vaporEnthalpy(Ha_l, Ha_vap, mw_A)\n",
    "Hb_v = vaporEnthalpy(Hb_l, Hb_vap, mw_B)\n",
    "\n",
    "vaporLineSlope = (Ha_v-Hb_v)/1\n",
    "liquidLineSlope = (Ha_l-Hb_l)/1\n",
    "\n",
    "# intake feed vapor composition based on equilibrium data\n",
    "while True:\n",
    "    yf_star= float(input('Enter the feed vapor composition: ')) # 0.71 for now must be greater than xf\n",
    "    if yf_star >= xf:\n",
    "        break\n",
    "    else:\n",
    "        print('Enter a feed vapor composition greater than xf: {}'.format(xf))\n",
    "    \n",
    "\n",
    "\n",
    "\n",
    "\n",
    "\n",
    "# create a variable to iterate over compositions\n",
    "x = np.linspace(0, 1, 101)\n",
    "\n",
    "# make plot\n",
    "fig1 = make_subplots(rows=1, cols=1)\n",
    "fig1.add_scatter(x=x,                            \n",
    "                 y=vaporLineEq(x), name='Vapor Line')\n",
    "fig1.add_scatter(x=x,                            \n",
    "                 y=liquidLineEq(x), name='Liquid Line')\n",
    "fig1.add_scatter(x=x[int(xf*100):int(xd*100)+1],\n",
    "                 y=feedLineEq(x[int(xf*100):int(xd*100)+1]), name='Feed Line')\n",
    "\n",
    "fig1.add_shape(type='line', x0=xd, y0=-feedLineEq(xd), x1=xd, y1=feedLineEq(xd))\n",
    "fig1.add_shape(type='line', x0=xb, y0=-feedLineEq(xb), x1=xb, y1=feedLineEq(xb))\n",
    "\n",
    "fig1.update_layout(\n",
    "    title='H vs comp',\n",
    "    xaxis = dict(\n",
    "        title = 'Composition (x_i,y_i)',\n",
    "    ),\n",
    "    yaxis = dict(\n",
    "        title = ' Enthalpy (H)',\n",
    "    )\n",
    "    )"
   ]
  },
  {
   "cell_type": "markdown",
   "metadata": {},
   "source": [
    "### Get functions sorted before editing below"
   ]
  },
  {
   "cell_type": "code",
   "execution_count": 154,
   "metadata": {},
   "outputs": [
    {
     "ename": "ValueError",
     "evalue": "could not convert string to float: ''",
     "output_type": "error",
     "traceback": [
      "\u001b[1;31m---------------------------------------------------------------------------\u001b[0m",
      "\u001b[1;31mValueError\u001b[0m                                Traceback (most recent call last)",
      "\u001b[1;32m~\\AppData\\Local\\Temp/ipykernel_16828/4234965876.py\u001b[0m in \u001b[0;36m<module>\u001b[1;34m\u001b[0m\n\u001b[0;32m     13\u001b[0m     \u001b[0my\u001b[0m\u001b[1;33m[\u001b[0m\u001b[1;36m0\u001b[0m\u001b[1;33m]\u001b[0m \u001b[1;33m=\u001b[0m \u001b[0myIdealStages\u001b[0m\u001b[1;33m[\u001b[0m\u001b[1;33m-\u001b[0m\u001b[1;36m1\u001b[0m\u001b[1;33m]\u001b[0m\u001b[1;33m\u001b[0m\u001b[1;33m\u001b[0m\u001b[0m\n\u001b[0;32m     14\u001b[0m \u001b[1;33m\u001b[0m\u001b[0m\n\u001b[1;32m---> 15\u001b[1;33m     \u001b[0mx\u001b[0m\u001b[1;33m[\u001b[0m\u001b[1;36m1\u001b[0m\u001b[1;33m]\u001b[0m \u001b[1;33m=\u001b[0m \u001b[0mfloat\u001b[0m\u001b[1;33m(\u001b[0m\u001b[0minput\u001b[0m\u001b[1;33m(\u001b[0m\u001b[1;34m'Enter the liquid composition: '\u001b[0m\u001b[1;33m)\u001b[0m\u001b[1;33m)\u001b[0m\u001b[1;33m\u001b[0m\u001b[1;33m\u001b[0m\u001b[0m\n\u001b[0m\u001b[0;32m     16\u001b[0m     \u001b[0mclear_output\u001b[0m\u001b[1;33m(\u001b[0m\u001b[1;33m)\u001b[0m\u001b[1;33m\u001b[0m\u001b[1;33m\u001b[0m\u001b[0m\n\u001b[0;32m     17\u001b[0m     \u001b[0my\u001b[0m\u001b[1;33m[\u001b[0m\u001b[1;36m1\u001b[0m\u001b[1;33m]\u001b[0m \u001b[1;33m=\u001b[0m \u001b[0mliquidLineSlope\u001b[0m\u001b[1;33m*\u001b[0m\u001b[0mx\u001b[0m\u001b[1;33m[\u001b[0m\u001b[1;36m1\u001b[0m\u001b[1;33m]\u001b[0m \u001b[1;33m+\u001b[0m \u001b[0mHb_l\u001b[0m\u001b[1;33m\u001b[0m\u001b[1;33m\u001b[0m\u001b[0m\n",
      "\u001b[1;31mValueError\u001b[0m: could not convert string to float: ''"
     ]
    }
   ],
   "source": [
    "xIdealStages = np.array([xd])\n",
    "yIdealStages = np.array([vaporLineSlope*xIdealStages[0] + Hb_v])\n",
    "\n",
    "stageCount = 0.0\n",
    "\n",
    "fig2 = fig1\n",
    "\n",
    "while xIdealStages[-1] > xb:\n",
    "    x = np.array([0.0, 0.0, 0.0])\n",
    "    y = np.array([0.0, 0.0, 0.0])\n",
    "\n",
    "    x[0] = xIdealStages[-1]\n",
    "    y[0] = yIdealStages[-1]\n",
    "\n",
    "    x[1] = float(input('Enter the liquid composition: '))\n",
    "    clear_output()\n",
    "    y[1] = liquidLineSlope*x[1] + Hb_l\n",
    "    x[2] = x[1]\n",
    "    y[2] = vaporLineSlope*x[2] + Hb_v\n",
    "\n",
    "    xIdealStages = np.append(xIdealStages, x[1:])\n",
    "    yIdealStages = np.append(yIdealStages, y[1:])\n",
    "\n",
    "    fig2.add_scatter(x=xIdealStages, y=yIdealStages)\n",
    "    fig2.show()\n",
    "\n",
    "    stageCount+=1\n",
    "    \n",
    "clear_output()\n",
    "\n",
    "# calculate stages\n",
    "idealStages = stageCount - (xb-xIdealStages[-1]/(xIdealStages[-3]-xIdealStages[-1]))\n",
    "\n",
    "print('Ideal stages: ' + str(idealStages))\n",
    "\n",
    "fig1.add_scatter(x=xIdealStages, y=yIdealStages, name='Ideal Stages')\n",
    "fig1"
   ]
  },
  {
   "cell_type": "code",
   "execution_count": null,
   "metadata": {},
   "outputs": [
    {
     "data": {
      "text/plain": [
       "4.235561254207672"
      ]
     },
     "execution_count": 112,
     "metadata": {},
     "output_type": "execute_result"
    }
   ],
   "source": [
    "'''\n",
    "(B) find the Minimum reflux ratio\n",
    "\n",
    "MinRefluxRatio = (P' - V_1)\\(V_1 - D)\n",
    "\n",
    "V_1 is the vapor enthalpy at the first stage\n",
    "D is the liquid enthalpy of the liquid distillate\n",
    "P' is found graphically\n",
    "'''\n",
    "def P_prime(m, x, b):\n",
    "    y = m*x +b\n",
    "    return y\n",
    "\n",
    "def R_min():\n",
    "    P_prime = feedLineSlope*xd + b\n",
    "    V_1 = vaporLineSlope*xd + Hb_v\n",
    "    D = liquidLineSlope*xd + Hb_l\n",
    "\n",
    "    return (P_prime-V_1)/(V_1-D)\n",
    "\n",
    "R_min()"
   ]
  },
  {
   "cell_type": "code",
   "execution_count": null,
   "metadata": {},
   "outputs": [
    {
     "data": {
      "text/plain": [
       "25711.35834895238"
      ]
     },
     "execution_count": 107,
     "metadata": {},
     "output_type": "execute_result"
    }
   ],
   "source": [
    "'''\n",
    "(C) find the ideal number of stages\n",
    "Actual reflux ratio = Rmin * (multiplier)\n",
    "Actual reflux ratio = [(H_D + Q_c/D) - V_1]/[V_1 - H_D]\n",
    "Solve for '(H_D + Q_c/D)' or (P')\n",
    "'''\n",
    "multiplier = 2.05\n",
    "actualRefluxRatio = minimumRefluxRatio * multiplier\n",
    "\n",
    "P_prime = actualRefluxRatio*(V_1 - D) + V_1 # new point on xd for tie line\n",
    "B_prime = -P_prime                          # new point on xb for tie line\n",
    "P_prime"
   ]
  },
  {
   "cell_type": "code",
   "execution_count": null,
   "metadata": {},
   "outputs": [],
   "source": [
    "feedLineSlope = (P_prime - B_prime)/(xd - xb)\n",
    "feedLineSlope\n",
    "feedLine = feedLineSlope*x + B_prime\n",
    "\n",
    "def FeedLine(x):\n",
    "    y = feedLineSlope*x + B_prime\n",
    "    return y"
   ]
  },
  {
   "cell_type": "code",
   "execution_count": null,
   "metadata": {},
   "outputs": [
    {
     "data": {
      "application/vnd.plotly.v1+json": {
       "config": {
        "plotlyServerURL": "https://plot.ly"
       },
       "data": [
        {
         "name": "Vapor Line",
         "type": "scatter",
         "x": [
          0.55,
          0.01,
          0.01
         ],
         "y": [
          9564.132,
          9539.903208,
          9515.674416,
          9491.445624,
          9467.216832,
          9442.98804,
          9418.759248,
          9394.530456,
          9370.301664,
          9346.072871999999,
          9321.844079999999,
          9297.615287999999,
          9273.386496,
          9249.157704,
          9224.928912,
          9200.70012,
          9176.471328,
          9152.242536,
          9128.013744,
          9103.784952,
          9079.55616,
          9055.327368,
          9031.098576,
          9006.869784,
          8982.640992,
          8958.412199999999,
          8934.183407999999,
          8909.954615999999,
          8885.725824,
          8861.497032,
          8837.26824,
          8813.039448,
          8788.810656,
          8764.581864,
          8740.353072,
          8716.12428,
          8691.895488,
          8667.666696,
          8643.437904,
          8619.209112,
          8594.98032,
          8570.751528,
          8546.522735999999,
          8522.293944,
          8498.065152,
          8473.83636,
          8449.607568,
          8425.378776,
          8401.149984,
          8376.921192,
          8352.6924,
          8328.463608,
          8304.234816,
          8280.006024,
          8255.777232,
          8231.54844,
          8207.319648,
          8183.090856,
          8158.862064,
          8134.633272,
          8110.40448,
          8086.175688,
          8061.9468959999995,
          8037.718104,
          8013.489312,
          7989.26052,
          7965.031728,
          7940.802936,
          7916.574144,
          7892.345352,
          7868.11656,
          7843.8877680000005,
          7819.658976000001,
          7795.430184,
          7771.201392,
          7746.9726,
          7722.743808,
          7698.515016,
          7674.2862239999995,
          7650.057432,
          7625.82864,
          7601.599848,
          7577.371056,
          7553.142264,
          7528.913472,
          7504.68468,
          7480.455888,
          7456.2270960000005,
          7431.998304000001,
          7407.769512000001,
          7383.54072,
          7359.311928,
          7335.083136,
          7310.854343999999,
          7286.6255519999995,
          7262.39676,
          7238.167968,
          7213.939176,
          7189.710384,
          7165.481592,
          7141.2528
         ]
        },
        {
         "name": "Liquid Line",
         "type": "scatter",
         "x": [
          0.55,
          0.01,
          0.01
         ],
         "y": [
          1566.38,
          1550.7162,
          1535.0524,
          1519.3886000000002,
          1503.7248000000002,
          1488.0610000000001,
          1472.3972,
          1456.7334,
          1441.0696,
          1425.4058,
          1409.7420000000002,
          1394.0782000000002,
          1378.4144000000001,
          1362.7506,
          1347.0868,
          1331.4230000000002,
          1315.7592,
          1300.0954000000002,
          1284.4316000000001,
          1268.7678,
          1253.104,
          1237.4402,
          1221.7764000000002,
          1206.1126,
          1190.4488000000001,
          1174.785,
          1159.1212,
          1143.4574,
          1127.7936,
          1112.1298000000002,
          1096.4660000000001,
          1080.8022,
          1065.1384,
          1049.4746,
          1033.8108000000002,
          1018.147,
          1002.4832000000001,
          986.8194000000001,
          971.1556,
          955.4918,
          939.828,
          924.1642,
          908.5004000000001,
          892.8366000000001,
          877.1728,
          861.509,
          845.8452,
          830.1814,
          814.5176000000001,
          798.8538000000001,
          783.19,
          767.5262,
          751.8624,
          736.1986,
          720.5348,
          704.871,
          689.2072,
          673.5433999999999,
          657.8796000000001,
          642.2158000000001,
          626.5520000000001,
          610.8882000000001,
          595.2244000000001,
          579.5606,
          563.8968,
          548.233,
          532.5691999999999,
          516.9053999999999,
          501.24160000000006,
          485.5778,
          469.914,
          454.2502000000002,
          438.58640000000014,
          422.9226000000001,
          407.25880000000006,
          391.595,
          375.9312,
          360.26739999999995,
          344.6035999999999,
          328.9397999999999,
          313.27599999999984,
          297.61220000000003,
          281.9484,
          266.28459999999995,
          250.62080000000014,
          234.9570000000001,
          219.29320000000007,
          203.62940000000003,
          187.9656,
          172.30179999999996,
          156.63799999999992,
          140.97419999999988,
          125.31039999999985,
          109.64660000000003,
          93.9828,
          78.31899999999996,
          62.65520000000015,
          46.99140000000011,
          31.327600000000075,
          15.663800000000037,
          0
         ]
        },
        {
         "name": "Feed Line",
         "type": "scatter",
         "x": [
          0.55,
          0.01,
          0.01
         ],
         "y": [
          5030.4831552298165,
          -25152.415776149068,
          -25152.415776149068
         ]
        },
        {
         "name": "Ideal Stages",
         "type": "scatter",
         "x": [
          0.96,
          0.89
         ],
         "y": [
          7238.167968,
          172.30179999999996
         ]
        }
       ],
       "layout": {
        "shapes": [
         {
          "type": "line",
          "x0": 0.96,
          "x1": 0.96,
          "y0": -27947.128640165633,
          "y1": 27947.128640165633
         },
         {
          "type": "line",
          "x0": 0.04,
          "x1": 0.04,
          "y0": 23475.58805773913,
          "y1": -23475.58805773913
         }
        ],
        "template": {
         "data": {
          "bar": [
           {
            "error_x": {
             "color": "#f2f5fa"
            },
            "error_y": {
             "color": "#f2f5fa"
            },
            "marker": {
             "line": {
              "color": "rgb(17,17,17)",
              "width": 0.5
             },
             "pattern": {
              "fillmode": "overlay",
              "size": 10,
              "solidity": 0.2
             }
            },
            "type": "bar"
           }
          ],
          "barpolar": [
           {
            "marker": {
             "line": {
              "color": "rgb(17,17,17)",
              "width": 0.5
             },
             "pattern": {
              "fillmode": "overlay",
              "size": 10,
              "solidity": 0.2
             }
            },
            "type": "barpolar"
           }
          ],
          "carpet": [
           {
            "aaxis": {
             "endlinecolor": "#A2B1C6",
             "gridcolor": "#506784",
             "linecolor": "#506784",
             "minorgridcolor": "#506784",
             "startlinecolor": "#A2B1C6"
            },
            "baxis": {
             "endlinecolor": "#A2B1C6",
             "gridcolor": "#506784",
             "linecolor": "#506784",
             "minorgridcolor": "#506784",
             "startlinecolor": "#A2B1C6"
            },
            "type": "carpet"
           }
          ],
          "choropleth": [
           {
            "colorbar": {
             "outlinewidth": 0,
             "ticks": ""
            },
            "type": "choropleth"
           }
          ],
          "contour": [
           {
            "colorbar": {
             "outlinewidth": 0,
             "ticks": ""
            },
            "colorscale": [
             [
              0,
              "#0d0887"
             ],
             [
              0.1111111111111111,
              "#46039f"
             ],
             [
              0.2222222222222222,
              "#7201a8"
             ],
             [
              0.3333333333333333,
              "#9c179e"
             ],
             [
              0.4444444444444444,
              "#bd3786"
             ],
             [
              0.5555555555555556,
              "#d8576b"
             ],
             [
              0.6666666666666666,
              "#ed7953"
             ],
             [
              0.7777777777777778,
              "#fb9f3a"
             ],
             [
              0.8888888888888888,
              "#fdca26"
             ],
             [
              1,
              "#f0f921"
             ]
            ],
            "type": "contour"
           }
          ],
          "contourcarpet": [
           {
            "colorbar": {
             "outlinewidth": 0,
             "ticks": ""
            },
            "type": "contourcarpet"
           }
          ],
          "heatmap": [
           {
            "colorbar": {
             "outlinewidth": 0,
             "ticks": ""
            },
            "colorscale": [
             [
              0,
              "#0d0887"
             ],
             [
              0.1111111111111111,
              "#46039f"
             ],
             [
              0.2222222222222222,
              "#7201a8"
             ],
             [
              0.3333333333333333,
              "#9c179e"
             ],
             [
              0.4444444444444444,
              "#bd3786"
             ],
             [
              0.5555555555555556,
              "#d8576b"
             ],
             [
              0.6666666666666666,
              "#ed7953"
             ],
             [
              0.7777777777777778,
              "#fb9f3a"
             ],
             [
              0.8888888888888888,
              "#fdca26"
             ],
             [
              1,
              "#f0f921"
             ]
            ],
            "type": "heatmap"
           }
          ],
          "heatmapgl": [
           {
            "colorbar": {
             "outlinewidth": 0,
             "ticks": ""
            },
            "colorscale": [
             [
              0,
              "#0d0887"
             ],
             [
              0.1111111111111111,
              "#46039f"
             ],
             [
              0.2222222222222222,
              "#7201a8"
             ],
             [
              0.3333333333333333,
              "#9c179e"
             ],
             [
              0.4444444444444444,
              "#bd3786"
             ],
             [
              0.5555555555555556,
              "#d8576b"
             ],
             [
              0.6666666666666666,
              "#ed7953"
             ],
             [
              0.7777777777777778,
              "#fb9f3a"
             ],
             [
              0.8888888888888888,
              "#fdca26"
             ],
             [
              1,
              "#f0f921"
             ]
            ],
            "type": "heatmapgl"
           }
          ],
          "histogram": [
           {
            "marker": {
             "pattern": {
              "fillmode": "overlay",
              "size": 10,
              "solidity": 0.2
             }
            },
            "type": "histogram"
           }
          ],
          "histogram2d": [
           {
            "colorbar": {
             "outlinewidth": 0,
             "ticks": ""
            },
            "colorscale": [
             [
              0,
              "#0d0887"
             ],
             [
              0.1111111111111111,
              "#46039f"
             ],
             [
              0.2222222222222222,
              "#7201a8"
             ],
             [
              0.3333333333333333,
              "#9c179e"
             ],
             [
              0.4444444444444444,
              "#bd3786"
             ],
             [
              0.5555555555555556,
              "#d8576b"
             ],
             [
              0.6666666666666666,
              "#ed7953"
             ],
             [
              0.7777777777777778,
              "#fb9f3a"
             ],
             [
              0.8888888888888888,
              "#fdca26"
             ],
             [
              1,
              "#f0f921"
             ]
            ],
            "type": "histogram2d"
           }
          ],
          "histogram2dcontour": [
           {
            "colorbar": {
             "outlinewidth": 0,
             "ticks": ""
            },
            "colorscale": [
             [
              0,
              "#0d0887"
             ],
             [
              0.1111111111111111,
              "#46039f"
             ],
             [
              0.2222222222222222,
              "#7201a8"
             ],
             [
              0.3333333333333333,
              "#9c179e"
             ],
             [
              0.4444444444444444,
              "#bd3786"
             ],
             [
              0.5555555555555556,
              "#d8576b"
             ],
             [
              0.6666666666666666,
              "#ed7953"
             ],
             [
              0.7777777777777778,
              "#fb9f3a"
             ],
             [
              0.8888888888888888,
              "#fdca26"
             ],
             [
              1,
              "#f0f921"
             ]
            ],
            "type": "histogram2dcontour"
           }
          ],
          "mesh3d": [
           {
            "colorbar": {
             "outlinewidth": 0,
             "ticks": ""
            },
            "type": "mesh3d"
           }
          ],
          "parcoords": [
           {
            "line": {
             "colorbar": {
              "outlinewidth": 0,
              "ticks": ""
             }
            },
            "type": "parcoords"
           }
          ],
          "pie": [
           {
            "automargin": true,
            "type": "pie"
           }
          ],
          "scatter": [
           {
            "marker": {
             "line": {
              "color": "#283442"
             }
            },
            "type": "scatter"
           }
          ],
          "scatter3d": [
           {
            "line": {
             "colorbar": {
              "outlinewidth": 0,
              "ticks": ""
             }
            },
            "marker": {
             "colorbar": {
              "outlinewidth": 0,
              "ticks": ""
             }
            },
            "type": "scatter3d"
           }
          ],
          "scattercarpet": [
           {
            "marker": {
             "colorbar": {
              "outlinewidth": 0,
              "ticks": ""
             }
            },
            "type": "scattercarpet"
           }
          ],
          "scattergeo": [
           {
            "marker": {
             "colorbar": {
              "outlinewidth": 0,
              "ticks": ""
             }
            },
            "type": "scattergeo"
           }
          ],
          "scattergl": [
           {
            "marker": {
             "line": {
              "color": "#283442"
             }
            },
            "type": "scattergl"
           }
          ],
          "scattermapbox": [
           {
            "marker": {
             "colorbar": {
              "outlinewidth": 0,
              "ticks": ""
             }
            },
            "type": "scattermapbox"
           }
          ],
          "scatterpolar": [
           {
            "marker": {
             "colorbar": {
              "outlinewidth": 0,
              "ticks": ""
             }
            },
            "type": "scatterpolar"
           }
          ],
          "scatterpolargl": [
           {
            "marker": {
             "colorbar": {
              "outlinewidth": 0,
              "ticks": ""
             }
            },
            "type": "scatterpolargl"
           }
          ],
          "scatterternary": [
           {
            "marker": {
             "colorbar": {
              "outlinewidth": 0,
              "ticks": ""
             }
            },
            "type": "scatterternary"
           }
          ],
          "surface": [
           {
            "colorbar": {
             "outlinewidth": 0,
             "ticks": ""
            },
            "colorscale": [
             [
              0,
              "#0d0887"
             ],
             [
              0.1111111111111111,
              "#46039f"
             ],
             [
              0.2222222222222222,
              "#7201a8"
             ],
             [
              0.3333333333333333,
              "#9c179e"
             ],
             [
              0.4444444444444444,
              "#bd3786"
             ],
             [
              0.5555555555555556,
              "#d8576b"
             ],
             [
              0.6666666666666666,
              "#ed7953"
             ],
             [
              0.7777777777777778,
              "#fb9f3a"
             ],
             [
              0.8888888888888888,
              "#fdca26"
             ],
             [
              1,
              "#f0f921"
             ]
            ],
            "type": "surface"
           }
          ],
          "table": [
           {
            "cells": {
             "fill": {
              "color": "#506784"
             },
             "line": {
              "color": "rgb(17,17,17)"
             }
            },
            "header": {
             "fill": {
              "color": "#2a3f5f"
             },
             "line": {
              "color": "rgb(17,17,17)"
             }
            },
            "type": "table"
           }
          ]
         },
         "layout": {
          "annotationdefaults": {
           "arrowcolor": "#f2f5fa",
           "arrowhead": 0,
           "arrowwidth": 1
          },
          "autotypenumbers": "strict",
          "coloraxis": {
           "colorbar": {
            "outlinewidth": 0,
            "ticks": ""
           }
          },
          "colorscale": {
           "diverging": [
            [
             0,
             "#8e0152"
            ],
            [
             0.1,
             "#c51b7d"
            ],
            [
             0.2,
             "#de77ae"
            ],
            [
             0.3,
             "#f1b6da"
            ],
            [
             0.4,
             "#fde0ef"
            ],
            [
             0.5,
             "#f7f7f7"
            ],
            [
             0.6,
             "#e6f5d0"
            ],
            [
             0.7,
             "#b8e186"
            ],
            [
             0.8,
             "#7fbc41"
            ],
            [
             0.9,
             "#4d9221"
            ],
            [
             1,
             "#276419"
            ]
           ],
           "sequential": [
            [
             0,
             "#0d0887"
            ],
            [
             0.1111111111111111,
             "#46039f"
            ],
            [
             0.2222222222222222,
             "#7201a8"
            ],
            [
             0.3333333333333333,
             "#9c179e"
            ],
            [
             0.4444444444444444,
             "#bd3786"
            ],
            [
             0.5555555555555556,
             "#d8576b"
            ],
            [
             0.6666666666666666,
             "#ed7953"
            ],
            [
             0.7777777777777778,
             "#fb9f3a"
            ],
            [
             0.8888888888888888,
             "#fdca26"
            ],
            [
             1,
             "#f0f921"
            ]
           ],
           "sequentialminus": [
            [
             0,
             "#0d0887"
            ],
            [
             0.1111111111111111,
             "#46039f"
            ],
            [
             0.2222222222222222,
             "#7201a8"
            ],
            [
             0.3333333333333333,
             "#9c179e"
            ],
            [
             0.4444444444444444,
             "#bd3786"
            ],
            [
             0.5555555555555556,
             "#d8576b"
            ],
            [
             0.6666666666666666,
             "#ed7953"
            ],
            [
             0.7777777777777778,
             "#fb9f3a"
            ],
            [
             0.8888888888888888,
             "#fdca26"
            ],
            [
             1,
             "#f0f921"
            ]
           ]
          },
          "colorway": [
           "#636efa",
           "#EF553B",
           "#00cc96",
           "#ab63fa",
           "#FFA15A",
           "#19d3f3",
           "#FF6692",
           "#B6E880",
           "#FF97FF",
           "#FECB52"
          ],
          "font": {
           "color": "#f2f5fa"
          },
          "geo": {
           "bgcolor": "rgb(17,17,17)",
           "lakecolor": "rgb(17,17,17)",
           "landcolor": "rgb(17,17,17)",
           "showlakes": true,
           "showland": true,
           "subunitcolor": "#506784"
          },
          "hoverlabel": {
           "align": "left"
          },
          "hovermode": "closest",
          "mapbox": {
           "style": "dark"
          },
          "paper_bgcolor": "rgb(17,17,17)",
          "plot_bgcolor": "rgb(17,17,17)",
          "polar": {
           "angularaxis": {
            "gridcolor": "#506784",
            "linecolor": "#506784",
            "ticks": ""
           },
           "bgcolor": "rgb(17,17,17)",
           "radialaxis": {
            "gridcolor": "#506784",
            "linecolor": "#506784",
            "ticks": ""
           }
          },
          "scene": {
           "xaxis": {
            "backgroundcolor": "rgb(17,17,17)",
            "gridcolor": "#506784",
            "gridwidth": 2,
            "linecolor": "#506784",
            "showbackground": true,
            "ticks": "",
            "zerolinecolor": "#C8D4E3"
           },
           "yaxis": {
            "backgroundcolor": "rgb(17,17,17)",
            "gridcolor": "#506784",
            "gridwidth": 2,
            "linecolor": "#506784",
            "showbackground": true,
            "ticks": "",
            "zerolinecolor": "#C8D4E3"
           },
           "zaxis": {
            "backgroundcolor": "rgb(17,17,17)",
            "gridcolor": "#506784",
            "gridwidth": 2,
            "linecolor": "#506784",
            "showbackground": true,
            "ticks": "",
            "zerolinecolor": "#C8D4E3"
           }
          },
          "shapedefaults": {
           "line": {
            "color": "#f2f5fa"
           }
          },
          "sliderdefaults": {
           "bgcolor": "#C8D4E3",
           "bordercolor": "rgb(17,17,17)",
           "borderwidth": 1,
           "tickwidth": 0
          },
          "ternary": {
           "aaxis": {
            "gridcolor": "#506784",
            "linecolor": "#506784",
            "ticks": ""
           },
           "baxis": {
            "gridcolor": "#506784",
            "linecolor": "#506784",
            "ticks": ""
           },
           "bgcolor": "rgb(17,17,17)",
           "caxis": {
            "gridcolor": "#506784",
            "linecolor": "#506784",
            "ticks": ""
           }
          },
          "title": {
           "x": 0.05
          },
          "updatemenudefaults": {
           "bgcolor": "#506784",
           "borderwidth": 0
          },
          "xaxis": {
           "automargin": true,
           "gridcolor": "#283442",
           "linecolor": "#506784",
           "ticks": "",
           "title": {
            "standoff": 15
           },
           "zerolinecolor": "#283442",
           "zerolinewidth": 2
          },
          "yaxis": {
           "automargin": true,
           "gridcolor": "#283442",
           "linecolor": "#506784",
           "ticks": "",
           "title": {
            "standoff": 15
           },
           "zerolinecolor": "#283442",
           "zerolinewidth": 2
          }
         }
        },
        "xaxis": {
         "anchor": "y",
         "domain": [
          0,
          1
         ]
        },
        "yaxis": {
         "anchor": "x",
         "domain": [
          0,
          1
         ]
        }
       }
      }
     },
     "metadata": {},
     "output_type": "display_data"
    }
   ],
   "source": [
    "# create non-ideal plot\n",
    "fig3 = make_subplots(rows=1, cols=1)\n",
    "fig3.add_scatter(x=x, y=vaporLine, name='Vapor Line')\n",
    "fig3.add_scatter(x=x, y=liquidLine, name='Liquid Line')\n",
    "fig3.add_scatter(x=x, y=feedLine, name='Feed Line')\n",
    "# fig3.add_scatter(x=[xd, xd], y=[-1000,feedLine[int(xd*100)]], name='xd')\n",
    "# fig3.add_scatter(x=[xb, xb], y=[-1000,vaporLine[int(xb*100)]+5000], name='xb')\n",
    "fig3.add_shape(type='line', x0=xd, y0=-FeedLine(xd), x1=xd, y1=FeedLine(xd))\n",
    "fig3.add_shape(type='line', x0=xb, y0=-FeedLine(xb), x1=xb, y1=FeedLine(xb))\n",
    "\n",
    "fig3.add_scatter(x=xIdealStages[0:2], y=yIdealStages[0:2], name='Ideal Stages')"
   ]
  },
  {
   "cell_type": "code",
   "execution_count": null,
   "metadata": {},
   "outputs": [],
   "source": []
  }
 ],
 "metadata": {
  "interpreter": {
   "hash": "59b55a83448839e7e9811f54adc5deb77c192bb3209e5de3cf5d67b04047c2ef"
  },
  "kernelspec": {
   "display_name": "Python 3.10.0 64-bit",
   "language": "python",
   "name": "python3"
  },
  "language_info": {
   "codemirror_mode": {
    "name": "ipython",
    "version": 3
   },
   "file_extension": ".py",
   "mimetype": "text/x-python",
   "name": "python",
   "nbconvert_exporter": "python",
   "pygments_lexer": "ipython3",
   "version": "3.10.0"
  },
  "orig_nbformat": 4
 },
 "nbformat": 4,
 "nbformat_minor": 2
}
